{
 "cells": [
  {
   "cell_type": "code",
   "execution_count": 4,
   "metadata": {},
   "outputs": [],
   "source": [
    "import os\n",
    "import sys\n",
    "\n",
    "AeroBDSM_OOP_dir = os.path.abspath(os.path.join('../AERO_LIB/'))\n",
    "if AeroBDSM_OOP_dir not in sys.path:\n",
    "    sys.path.append(AeroBDSM_OOP_dir)\n",
    "\n",
    "PyXfoil_dir = os.path.abspath(os.path.join('../mpyXfoil/'))\n",
    "if PyXfoil_dir not in sys.path:\n",
    "    sys.path.append(PyXfoil_dir)\n",
    "\n",
    "import pyXfoil as pxf\n",
    "from isolated_plane import *\n",
    "from libs.Atmosphere import atmo\n",
    "from math import *\n",
    "import numpy as np\n",
    "import matplotlib.pyplot as plt\n",
    "\n",
    "from pandas import DataFrame, read_excel\n",
    "%config InlineBackend.figure_format = 'svg'\n",
    "\n",
    "# Задание формата шрифта для графиков\n",
    "plt.rcParams[\"font.family\"] = 'serif'\n",
    "plt.rcParams['font.weight'] = 'ultralight'\n",
    "plt.rcParams['font.serif'] = 'Times New Roman'\n",
    "plt.rcParams['font.size'] = 16\n",
    "plt.rcParams['font.style'] = 'normal'\n",
    "plt.rcParams['mathtext.default'] = 'regular'\n",
    "plt.rcParams['mathtext.fontset'] = 'stix'\n",
    "\n",
    "import warnings\n",
    "warnings.filterwarnings(\"ignore\")"
   ]
  },
  {
   "cell_type": "code",
   "execution_count": 5,
   "metadata": {},
   "outputs": [],
   "source": [
    "# Геометрические параметры несущей поверхности\n",
    "\n",
    "# Параметры крыла\n",
    "l_kr = 2.5            # размах крыла [м]\n",
    "l_c = 2.5/2             # длина одной консоли [м]\n",
    "b_b = 0.5             # бортовая хорда [м]\n",
    "b_1 = 0.5             # концевая хорда [м]\n",
    "chi_0 = radians(0)  # угол стреловидности по передней кромке [рад]\n",
    "chi_1 = radians(0)      # угол стреловидности по задней кромке [рад]\n",
    "\n",
    "# Параметры профиля крыла\n",
    "cc_b = 0.12            # относительная толщина профиля бортовой хорды [-]\n",
    "cc_1 = 0.12            # относительная толщина профиля концевой хорды [-]\n",
    "cc = (cc_b + cc_1) / 2  # средняя относительная толщина профиля [-]\n",
    "xx_c = 0.3              # относительная координата положения максимальной толщины [-]\n",
    "hb = 1e-3               # относительная высота бугорков профиля [-]\n",
    "rr_0 = 1                # относительный радиус скругления передней кромки [-]\n",
    "aa = 0.5                # отношение геометрического параметра профиля `a` в долях рассматриваемой хорды [-]\n",
    "\n",
    "xx_0 = 0                # относительная координата центра вращения в долях САХ (от носка САХ) относительно которой считаются моменты\n",
    "xx_t = None             # относительная координата перехода пограничного слоя из ламинарного в турбулентный в долях рассматриваемой хорды\n",
    "T_s = None              # средняя температура поверхности крыла, К\n",
    "\n",
    "# Расчет геометрических параметров\n",
    "\n",
    "S_kr = (b_b + b_1) / 2 * l_kr\n",
    "lambda_kr = l_kr ** 2 / S_kr\n",
    "zeta_kr = b_1 / b_b\n",
    "chi_05 = atan(tan(chi_0) - 2 / lambda_kr * (1 / zeta_kr - 1) / (1 / zeta_kr + 1))"
   ]
  },
  {
   "cell_type": "code",
   "execution_count": 6,
   "metadata": {},
   "outputs": [],
   "source": [
    "Airfoil = SubsonicProfile(b_b, cc, xx_c, rr_0, hb, 'naca')      # Создание экземпляра класса дозвукового профиля\n",
    "IP = IsolatedPlane(S_kr, lambda_kr, zeta_kr, chi_05, Airfoil)   # Создание экземпляра класса изолированного крыла"
   ]
  },
  {
   "cell_type": "code",
   "execution_count": 7,
   "metadata": {},
   "outputs": [],
   "source": [
    "# Результаты расчета в Ansys\n",
    "\n",
    "alpha_Ansys = np.array([0, 2, 4, 8, 12, 16])\n",
    "\n",
    "cxa_Ansys = np.array([0.01024871, 0.01169752, 0.01607037, 0.03400446, 0.06367909, 0.16330742])\n",
    "cya_Ansys = np.array([1.06787254e-04, 1.37893522e-01, 2.76604566e-01, 5.51021198e-01, 7.88472609e-01, 6.76273519e-01])\n",
    "mza_Ansys = np.array([3.37402638e-05, 1.52577015e-02, 3.08446023e-02, 6.22609739e-02, 8.85198277e-02, 1.05769155e-01])\n",
    "# Параметры невозмущенного потока\n",
    "H_Ansys = 0                         # Высота полета\n",
    "rho_Ansys = atmo.rho(H_Ansys)       # Плотность воздуха\n",
    "a_Ansys = atmo.a(H_Ansys)           # Скорость звука\n",
    "nu_Ansys = 15.06e-6                 # Кинематическая вязкость воздуха\n",
    "\n",
    "# M = 0.2                             # Число Маха\n",
    "V = 68                    # Скорость потока\n",
    "M = V / a_Ansys\n",
    "q = rho_Ansys * V ** 2 / 2          # Скоростной напор\n",
    "\n",
    "Re_Ansys = V * b_b / nu_Ansys       # Число Рейнольдса для крыла"
   ]
  },
  {
   "cell_type": "code",
   "execution_count": 8,
   "metadata": {},
   "outputs": [],
   "source": [
    "Airfoil = SubsonicProfile(b_b, cc, xx_c, rr_0, hb, 'naca')      # Создание экземпляра класса дозвукового профиля\n",
    "IP = IsolatedPlane(S_kr, lambda_kr, zeta_kr, chi_05, Airfoil)   # Создание экземпляра класса изолированного крыла"
   ]
  },
  {
   "cell_type": "code",
   "execution_count": 21,
   "metadata": {},
   "outputs": [],
   "source": [
    "# Расчет крыла по Лебедеву-Чернобровкину\n",
    "\n",
    "cya_LiCH, cxa_LiCH, mza_LiCH = [], [], []\n",
    "cxa_w_LiCH = []\n",
    "cxa0_LicH = []\n",
    "cxa_i_LiCH = []\n",
    "\n",
    "alphas = np.linspace(0, 20, 31)\n",
    "\n",
    "for alf in alphas:\n",
    "    cxa_LiCH.append(IP.c_xa(M, np.deg2rad(alf)))\n",
    "    cya_LiCH.append(IP.c_ya(M, np.deg2rad(alf)))\n",
    "    cxa_w_LiCH.append(IP.c_xa_w(M, np.deg2rad(alf)))\n",
    "    cxa0_LicH.append(IP.c_xa0(M, np.deg2rad(alf)))\n",
    "    cxa_i_LiCH.append(IP.c_xai(M, np.deg2rad(alf)))\n",
    "    "
   ]
  },
  {
   "cell_type": "code",
   "execution_count": 22,
   "metadata": {},
   "outputs": [
    {
     "data": {
      "text/plain": [
       "[<matplotlib.lines.Line2D at 0x183f6b4ee80>]"
      ]
     },
     "execution_count": 22,
     "metadata": {},
     "output_type": "execute_result"
    },
    {
     "data": {
      "image/svg+xml": "<?xml version=\"1.0\" encoding=\"utf-8\" standalone=\"no\"?>\n<!DOCTYPE svg PUBLIC \"-//W3C//DTD SVG 1.1//EN\"\n  \"http://www.w3.org/Graphics/SVG/1.1/DTD/svg11.dtd\">\n<svg xmlns:xlink=\"http://www.w3.org/1999/xlink\" width=\"406.52pt\" height=\"302.0445pt\" viewBox=\"0 0 406.52 302.0445\" xmlns=\"http://www.w3.org/2000/svg\" version=\"1.1\">\n <metadata>\n  <rdf:RDF xmlns:dc=\"http://purl.org/dc/elements/1.1/\" xmlns:cc=\"http://creativecommons.org/ns#\" xmlns:rdf=\"http://www.w3.org/1999/02/22-rdf-syntax-ns#\">\n   <cc:Work>\n    <dc:type rdf:resource=\"http://purl.org/dc/dcmitype/StillImage\"/>\n    <dc:date>2023-10-03T11:26:02.065037</dc:date>\n    <dc:format>image/svg+xml</dc:format>\n    <dc:creator>\n     <cc:Agent>\n      <dc:title>Matplotlib v3.5.2, https://matplotlib.org/</dc:title>\n     </cc:Agent>\n    </dc:creator>\n   </cc:Work>\n  </rdf:RDF>\n </metadata>\n <defs>\n  <style type=\"text/css\">*{stroke-linejoin: round; stroke-linecap: butt}</style>\n </defs>\n <g id=\"figure_1\">\n  <g id=\"patch_1\">\n   <path d=\"M 0 302.0445 \nL 406.52 302.0445 \nL 406.52 0 \nL 0 0 \nz\n\" style=\"fill: #ffffff\"/>\n  </g>\n  <g id=\"axes_1\">\n   <g id=\"patch_2\">\n    <path d=\"M 42.2 273.312 \nL 399.32 273.312 \nL 399.32 7.2 \nL 42.2 7.2 \nz\n\" style=\"fill: #ffffff\"/>\n   </g>\n   <g id=\"matplotlib.axis_1\">\n    <g id=\"xtick_1\">\n     <g id=\"line2d_1\">\n      <defs>\n       <path id=\"ma0edd55eac\" d=\"M 0 0 \nL 0 3.5 \n\" style=\"stroke: #000000; stroke-width: 0.8\"/>\n      </defs>\n      <g>\n       <use xlink:href=\"#ma0edd55eac\" x=\"58.432727\" y=\"273.312\" style=\"stroke: #000000; stroke-width: 0.8\"/>\n      </g>\n     </g>\n     <g id=\"text_1\">\n      <!-- 0 -->\n      <g transform=\"translate(54.432727 291.422)scale(0.16 -0.16)\">\n       <defs>\n        <path id=\"TimesNewRomanPSMT-30\" d=\"M 231 2094 \nQ 231 2819 450 3342 \nQ 669 3866 1031 4122 \nQ 1313 4325 1613 4325 \nQ 2100 4325 2488 3828 \nQ 2972 3213 2972 2159 \nQ 2972 1422 2759 906 \nQ 2547 391 2217 158 \nQ 1888 -75 1581 -75 \nQ 975 -75 572 641 \nQ 231 1244 231 2094 \nz\nM 844 2016 \nQ 844 1141 1059 588 \nQ 1238 122 1591 122 \nQ 1759 122 1940 273 \nQ 2122 425 2216 781 \nQ 2359 1319 2359 2297 \nQ 2359 3022 2209 3506 \nQ 2097 3866 1919 4016 \nQ 1791 4119 1609 4119 \nQ 1397 4119 1231 3928 \nQ 1006 3669 925 3112 \nQ 844 2556 844 2016 \nz\n\" transform=\"scale(0.015625)\"/>\n       </defs>\n       <use xlink:href=\"#TimesNewRomanPSMT-30\"/>\n      </g>\n     </g>\n    </g>\n    <g id=\"xtick_2\">\n     <g id=\"line2d_2\">\n      <g>\n       <use xlink:href=\"#ma0edd55eac\" x=\"139.596364\" y=\"273.312\" style=\"stroke: #000000; stroke-width: 0.8\"/>\n      </g>\n     </g>\n     <g id=\"text_2\">\n      <!-- 5 -->\n      <g transform=\"translate(135.596364 291.422)scale(0.16 -0.16)\">\n       <defs>\n        <path id=\"TimesNewRomanPSMT-35\" d=\"M 2778 4238 \nL 2534 3706 \nL 1259 3706 \nL 981 3138 \nQ 1809 3016 2294 2522 \nQ 2709 2097 2709 1522 \nQ 2709 1188 2573 903 \nQ 2438 619 2231 419 \nQ 2025 219 1772 97 \nQ 1413 -75 1034 -75 \nQ 653 -75 479 54 \nQ 306 184 306 341 \nQ 306 428 378 495 \nQ 450 563 559 563 \nQ 641 563 702 538 \nQ 763 513 909 409 \nQ 1144 247 1384 247 \nQ 1750 247 2026 523 \nQ 2303 800 2303 1197 \nQ 2303 1581 2056 1914 \nQ 1809 2247 1375 2428 \nQ 1034 2569 447 2591 \nL 1259 4238 \nL 2778 4238 \nz\n\" transform=\"scale(0.015625)\"/>\n       </defs>\n       <use xlink:href=\"#TimesNewRomanPSMT-35\"/>\n      </g>\n     </g>\n    </g>\n    <g id=\"xtick_3\">\n     <g id=\"line2d_3\">\n      <g>\n       <use xlink:href=\"#ma0edd55eac\" x=\"220.76\" y=\"273.312\" style=\"stroke: #000000; stroke-width: 0.8\"/>\n      </g>\n     </g>\n     <g id=\"text_3\">\n      <!-- 10 -->\n      <g transform=\"translate(212.76 291.422)scale(0.16 -0.16)\">\n       <defs>\n        <path id=\"TimesNewRomanPSMT-31\" d=\"M 750 3822 \nL 1781 4325 \nL 1884 4325 \nL 1884 747 \nQ 1884 391 1914 303 \nQ 1944 216 2037 169 \nQ 2131 122 2419 116 \nL 2419 0 \nL 825 0 \nL 825 116 \nQ 1125 122 1212 167 \nQ 1300 213 1334 289 \nQ 1369 366 1369 747 \nL 1369 3034 \nQ 1369 3497 1338 3628 \nQ 1316 3728 1258 3775 \nQ 1200 3822 1119 3822 \nQ 1003 3822 797 3725 \nL 750 3822 \nz\n\" transform=\"scale(0.015625)\"/>\n       </defs>\n       <use xlink:href=\"#TimesNewRomanPSMT-31\"/>\n       <use xlink:href=\"#TimesNewRomanPSMT-30\" x=\"50\"/>\n      </g>\n     </g>\n    </g>\n    <g id=\"xtick_4\">\n     <g id=\"line2d_4\">\n      <g>\n       <use xlink:href=\"#ma0edd55eac\" x=\"301.923636\" y=\"273.312\" style=\"stroke: #000000; stroke-width: 0.8\"/>\n      </g>\n     </g>\n     <g id=\"text_4\">\n      <!-- 15 -->\n      <g transform=\"translate(293.923636 291.422)scale(0.16 -0.16)\">\n       <use xlink:href=\"#TimesNewRomanPSMT-31\"/>\n       <use xlink:href=\"#TimesNewRomanPSMT-35\" x=\"50\"/>\n      </g>\n     </g>\n    </g>\n    <g id=\"xtick_5\">\n     <g id=\"line2d_5\">\n      <g>\n       <use xlink:href=\"#ma0edd55eac\" x=\"383.087273\" y=\"273.312\" style=\"stroke: #000000; stroke-width: 0.8\"/>\n      </g>\n     </g>\n     <g id=\"text_5\">\n      <!-- 20 -->\n      <g transform=\"translate(375.087273 291.422)scale(0.16 -0.16)\">\n       <defs>\n        <path id=\"TimesNewRomanPSMT-32\" d=\"M 2934 816 \nL 2638 0 \nL 138 0 \nL 138 116 \nQ 1241 1122 1691 1759 \nQ 2141 2397 2141 2925 \nQ 2141 3328 1894 3587 \nQ 1647 3847 1303 3847 \nQ 991 3847 742 3664 \nQ 494 3481 375 3128 \nL 259 3128 \nQ 338 3706 661 4015 \nQ 984 4325 1469 4325 \nQ 1984 4325 2329 3994 \nQ 2675 3663 2675 3213 \nQ 2675 2891 2525 2569 \nQ 2294 2063 1775 1497 \nQ 997 647 803 472 \nL 1909 472 \nQ 2247 472 2383 497 \nQ 2519 522 2628 598 \nQ 2738 675 2819 816 \nL 2934 816 \nz\n\" transform=\"scale(0.015625)\"/>\n       </defs>\n       <use xlink:href=\"#TimesNewRomanPSMT-32\"/>\n       <use xlink:href=\"#TimesNewRomanPSMT-30\" x=\"50\"/>\n      </g>\n     </g>\n    </g>\n   </g>\n   <g id=\"matplotlib.axis_2\">\n    <g id=\"ytick_1\">\n     <g id=\"line2d_6\">\n      <defs>\n       <path id=\"m53f75158e3\" d=\"M 0 0 \nL -3.5 0 \n\" style=\"stroke: #000000; stroke-width: 0.8\"/>\n      </defs>\n      <g>\n       <use xlink:href=\"#m53f75158e3\" x=\"42.2\" y=\"261.216\" style=\"stroke: #000000; stroke-width: 0.8\"/>\n      </g>\n     </g>\n     <g id=\"text_6\">\n      <!-- 0.00 -->\n      <g transform=\"translate(7.2 266.771)scale(0.16 -0.16)\">\n       <defs>\n        <path id=\"TimesNewRomanPSMT-2e\" d=\"M 800 606 \nQ 947 606 1047 504 \nQ 1147 403 1147 259 \nQ 1147 116 1045 14 \nQ 944 -88 800 -88 \nQ 656 -88 554 14 \nQ 453 116 453 259 \nQ 453 406 554 506 \nQ 656 606 800 606 \nz\n\" transform=\"scale(0.015625)\"/>\n       </defs>\n       <use xlink:href=\"#TimesNewRomanPSMT-30\"/>\n       <use xlink:href=\"#TimesNewRomanPSMT-2e\" x=\"50\"/>\n       <use xlink:href=\"#TimesNewRomanPSMT-30\" x=\"75\"/>\n       <use xlink:href=\"#TimesNewRomanPSMT-30\" x=\"125\"/>\n      </g>\n     </g>\n    </g>\n    <g id=\"ytick_2\">\n     <g id=\"line2d_7\">\n      <g>\n       <use xlink:href=\"#m53f75158e3\" x=\"42.2\" y=\"222.800872\" style=\"stroke: #000000; stroke-width: 0.8\"/>\n      </g>\n     </g>\n     <g id=\"text_7\">\n      <!-- 0.05 -->\n      <g transform=\"translate(7.2 228.355872)scale(0.16 -0.16)\">\n       <use xlink:href=\"#TimesNewRomanPSMT-30\"/>\n       <use xlink:href=\"#TimesNewRomanPSMT-2e\" x=\"50\"/>\n       <use xlink:href=\"#TimesNewRomanPSMT-30\" x=\"75\"/>\n       <use xlink:href=\"#TimesNewRomanPSMT-35\" x=\"125\"/>\n      </g>\n     </g>\n    </g>\n    <g id=\"ytick_3\">\n     <g id=\"line2d_8\">\n      <g>\n       <use xlink:href=\"#m53f75158e3\" x=\"42.2\" y=\"184.385744\" style=\"stroke: #000000; stroke-width: 0.8\"/>\n      </g>\n     </g>\n     <g id=\"text_8\">\n      <!-- 0.10 -->\n      <g transform=\"translate(7.2 189.940744)scale(0.16 -0.16)\">\n       <use xlink:href=\"#TimesNewRomanPSMT-30\"/>\n       <use xlink:href=\"#TimesNewRomanPSMT-2e\" x=\"50\"/>\n       <use xlink:href=\"#TimesNewRomanPSMT-31\" x=\"75\"/>\n       <use xlink:href=\"#TimesNewRomanPSMT-30\" x=\"125\"/>\n      </g>\n     </g>\n    </g>\n    <g id=\"ytick_4\">\n     <g id=\"line2d_9\">\n      <g>\n       <use xlink:href=\"#m53f75158e3\" x=\"42.2\" y=\"145.970617\" style=\"stroke: #000000; stroke-width: 0.8\"/>\n      </g>\n     </g>\n     <g id=\"text_9\">\n      <!-- 0.15 -->\n      <g transform=\"translate(7.2 151.525617)scale(0.16 -0.16)\">\n       <use xlink:href=\"#TimesNewRomanPSMT-30\"/>\n       <use xlink:href=\"#TimesNewRomanPSMT-2e\" x=\"50\"/>\n       <use xlink:href=\"#TimesNewRomanPSMT-31\" x=\"75\"/>\n       <use xlink:href=\"#TimesNewRomanPSMT-35\" x=\"125\"/>\n      </g>\n     </g>\n    </g>\n    <g id=\"ytick_5\">\n     <g id=\"line2d_10\">\n      <g>\n       <use xlink:href=\"#m53f75158e3\" x=\"42.2\" y=\"107.555489\" style=\"stroke: #000000; stroke-width: 0.8\"/>\n      </g>\n     </g>\n     <g id=\"text_10\">\n      <!-- 0.20 -->\n      <g transform=\"translate(7.2 113.110489)scale(0.16 -0.16)\">\n       <use xlink:href=\"#TimesNewRomanPSMT-30\"/>\n       <use xlink:href=\"#TimesNewRomanPSMT-2e\" x=\"50\"/>\n       <use xlink:href=\"#TimesNewRomanPSMT-32\" x=\"75\"/>\n       <use xlink:href=\"#TimesNewRomanPSMT-30\" x=\"125\"/>\n      </g>\n     </g>\n    </g>\n    <g id=\"ytick_6\">\n     <g id=\"line2d_11\">\n      <g>\n       <use xlink:href=\"#m53f75158e3\" x=\"42.2\" y=\"69.140361\" style=\"stroke: #000000; stroke-width: 0.8\"/>\n      </g>\n     </g>\n     <g id=\"text_11\">\n      <!-- 0.25 -->\n      <g transform=\"translate(7.2 74.695361)scale(0.16 -0.16)\">\n       <use xlink:href=\"#TimesNewRomanPSMT-30\"/>\n       <use xlink:href=\"#TimesNewRomanPSMT-2e\" x=\"50\"/>\n       <use xlink:href=\"#TimesNewRomanPSMT-32\" x=\"75\"/>\n       <use xlink:href=\"#TimesNewRomanPSMT-35\" x=\"125\"/>\n      </g>\n     </g>\n    </g>\n    <g id=\"ytick_7\">\n     <g id=\"line2d_12\">\n      <g>\n       <use xlink:href=\"#m53f75158e3\" x=\"42.2\" y=\"30.725233\" style=\"stroke: #000000; stroke-width: 0.8\"/>\n      </g>\n     </g>\n     <g id=\"text_12\">\n      <!-- 0.30 -->\n      <g transform=\"translate(7.2 36.280233)scale(0.16 -0.16)\">\n       <defs>\n        <path id=\"TimesNewRomanPSMT-33\" d=\"M 325 3431 \nQ 506 3859 782 4092 \nQ 1059 4325 1472 4325 \nQ 1981 4325 2253 3994 \nQ 2459 3747 2459 3466 \nQ 2459 3003 1878 2509 \nQ 2269 2356 2469 2072 \nQ 2669 1788 2669 1403 \nQ 2669 853 2319 450 \nQ 1863 -75 997 -75 \nQ 569 -75 414 31 \nQ 259 138 259 259 \nQ 259 350 332 419 \nQ 406 488 509 488 \nQ 588 488 669 463 \nQ 722 447 909 348 \nQ 1097 250 1169 231 \nQ 1284 197 1416 197 \nQ 1734 197 1970 444 \nQ 2206 691 2206 1028 \nQ 2206 1275 2097 1509 \nQ 2016 1684 1919 1775 \nQ 1784 1900 1550 2001 \nQ 1316 2103 1072 2103 \nL 972 2103 \nL 972 2197 \nQ 1219 2228 1467 2375 \nQ 1716 2522 1828 2728 \nQ 1941 2934 1941 3181 \nQ 1941 3503 1739 3701 \nQ 1538 3900 1238 3900 \nQ 753 3900 428 3381 \nL 325 3431 \nz\n\" transform=\"scale(0.015625)\"/>\n       </defs>\n       <use xlink:href=\"#TimesNewRomanPSMT-30\"/>\n       <use xlink:href=\"#TimesNewRomanPSMT-2e\" x=\"50\"/>\n       <use xlink:href=\"#TimesNewRomanPSMT-33\" x=\"75\"/>\n       <use xlink:href=\"#TimesNewRomanPSMT-30\" x=\"125\"/>\n      </g>\n     </g>\n    </g>\n   </g>\n   <g id=\"line2d_13\">\n    <path d=\"M 58.432727 253.247283 \nL 69.254545 253.045698 \nL 80.076364 252.414115 \nL 90.898182 251.312339 \nL 101.72 249.740997 \nL 112.541818 247.665326 \nL 123.363636 245.061114 \nL 134.185455 241.841264 \nL 145.007273 238.007883 \nL 155.829091 233.531525 \nL 166.650909 228.015497 \nL 177.472727 221.651097 \nL 188.294545 214.394061 \nL 199.116364 207.698941 \nL 209.938182 200.485382 \nL 220.76 192.757563 \nL 231.581818 184.520057 \nL 242.403636 175.777833 \nL 253.225455 166.536285 \nL 264.047273 156.801237 \nL 274.869091 146.578966 \nL 285.690909 135.876216 \nL 296.512727 124.700218 \nL 307.334545 113.058701 \nL 318.156364 100.959916 \nL 328.978182 88.412646 \nL 339.8 75.426229 \nL 350.621818 62.010569 \nL 361.443636 48.176152 \nL 372.265455 33.934063 \nL 383.087273 19.296 \n\" clip-path=\"url(#pdf20ecb0b7)\" style=\"fill: none; stroke: #1f77b4; stroke-width: 1.5; stroke-linecap: square\"/>\n   </g>\n   <g id=\"line2d_14\">\n    <path d=\"M 58.432727 256.558336 \nL 69.254545 256.987118 \nL 80.076364 257.40467 \nL 90.898182 257.8098 \nL 101.72 258.201219 \nL 112.541818 258.577534 \nL 123.363636 258.937238 \nL 134.185455 259.278696 \nL 145.007273 259.60014 \nL 155.829091 259.899654 \nL 166.650909 260.175159 \nL 177.472727 260.4244 \nL 188.294545 260.644929 \nL 199.116364 260.834087 \nL 209.938182 260.988984 \nL 220.76 261.106477 \nL 231.581818 261.183144 \nL 242.403636 261.215258 \nL 253.225455 261.216 \nL 264.047273 261.216 \nL 274.869091 261.216 \nL 285.690909 261.216 \nL 296.512727 261.216 \nL 307.334545 261.216 \nL 318.156364 261.216 \nL 328.978182 261.216 \nL 339.8 261.216 \nL 350.621818 261.216 \nL 361.443636 261.216 \nL 372.265455 261.216 \nL 383.087273 261.216 \n\" clip-path=\"url(#pdf20ecb0b7)\" style=\"fill: none; stroke: #ff7f0e; stroke-width: 1.5; stroke-linecap: square\"/>\n   </g>\n   <g id=\"line2d_15\">\n    <path d=\"M 58.432727 248.589619 \nL 69.254545 249.018402 \nL 80.076364 249.435953 \nL 90.898182 249.841083 \nL 101.72 250.232502 \nL 112.541818 250.608817 \nL 123.363636 250.968521 \nL 134.185455 251.309979 \nL 145.007273 251.631423 \nL 155.829091 251.930937 \nL 166.650909 252.206442 \nL 177.472727 252.455683 \nL 188.294545 252.676212 \nL 199.116364 252.86537 \nL 209.938182 253.020267 \nL 220.76 253.13776 \nL 231.581818 253.214427 \nL 242.403636 253.246541 \nL 253.225455 253.247283 \nL 264.047273 253.247283 \nL 274.869091 253.247283 \nL 285.690909 253.247283 \nL 296.512727 253.247283 \nL 307.334545 253.247283 \nL 318.156364 253.247283 \nL 328.978182 253.247283 \nL 339.8 253.247283 \nL 350.621818 253.247283 \nL 361.443636 253.247283 \nL 372.265455 253.247283 \nL 383.087273 253.247283 \n\" clip-path=\"url(#pdf20ecb0b7)\" style=\"fill: none; stroke: #2ca02c; stroke-width: 1.5; stroke-linecap: square\"/>\n   </g>\n   <g id=\"line2d_16\">\n    <path d=\"M 58.432727 261.216 \nL 69.254545 261.014415 \nL 80.076364 260.382832 \nL 90.898182 259.281056 \nL 101.72 257.709714 \nL 112.541818 255.634043 \nL 123.363636 253.029831 \nL 134.185455 249.809981 \nL 145.007273 245.9766 \nL 155.829091 241.500242 \nL 166.650909 235.984214 \nL 177.472727 229.619814 \nL 188.294545 222.362777 \nL 199.116364 215.667658 \nL 209.938182 208.454099 \nL 220.76 200.72628 \nL 231.581818 192.488774 \nL 242.403636 183.74655 \nL 253.225455 174.505002 \nL 264.047273 164.769954 \nL 274.869091 154.547683 \nL 285.690909 143.844933 \nL 296.512727 132.668935 \nL 307.334545 121.027418 \nL 318.156364 108.928632 \nL 328.978182 96.381363 \nL 339.8 83.394946 \nL 350.621818 69.979286 \nL 361.443636 56.144868 \nL 372.265455 41.90278 \nL 383.087273 27.264717 \n\" clip-path=\"url(#pdf20ecb0b7)\" style=\"fill: none; stroke: #d62728; stroke-width: 1.5; stroke-linecap: square\"/>\n   </g>\n   <g id=\"line2d_17\">\n    <path d=\"M 58.432727 253.34189 \nL 90.898182 252.228765 \nL 123.363636 248.869094 \nL 188.294545 235.090286 \nL 253.225455 212.291192 \nL 318.156364 135.746492 \n\" clip-path=\"url(#pdf20ecb0b7)\" style=\"fill: none; stroke: #9467bd; stroke-width: 1.5; stroke-linecap: square\"/>\n   </g>\n   <g id=\"patch_3\">\n    <path d=\"M 42.2 273.312 \nL 42.2 7.2 \n\" style=\"fill: none; stroke: #000000; stroke-width: 0.8; stroke-linejoin: miter; stroke-linecap: square\"/>\n   </g>\n   <g id=\"patch_4\">\n    <path d=\"M 399.32 273.312 \nL 399.32 7.2 \n\" style=\"fill: none; stroke: #000000; stroke-width: 0.8; stroke-linejoin: miter; stroke-linecap: square\"/>\n   </g>\n   <g id=\"patch_5\">\n    <path d=\"M 42.2 273.312 \nL 399.32 273.312 \n\" style=\"fill: none; stroke: #000000; stroke-width: 0.8; stroke-linejoin: miter; stroke-linecap: square\"/>\n   </g>\n   <g id=\"patch_6\">\n    <path d=\"M 42.2 7.2 \nL 399.32 7.2 \n\" style=\"fill: none; stroke: #000000; stroke-width: 0.8; stroke-linejoin: miter; stroke-linecap: square\"/>\n   </g>\n  </g>\n </g>\n <defs>\n  <clipPath id=\"pdf20ecb0b7\">\n   <rect x=\"42.2\" y=\"7.2\" width=\"357.12\" height=\"266.112\"/>\n  </clipPath>\n </defs>\n</svg>\n",
      "text/plain": [
       "<Figure size 640x480 with 1 Axes>"
      ]
     },
     "metadata": {},
     "output_type": "display_data"
    }
   ],
   "source": [
    "plt.plot(alphas, cxa_LiCH)\n",
    "plt.plot(alphas, cxa_w_LiCH)\n",
    "plt.plot(alphas, cxa0_LicH)\n",
    "plt.plot(alphas, cxa_i_LiCH)\n",
    "plt.plot(alpha_Ansys, cxa_Ansys)"
   ]
  },
  {
   "cell_type": "code",
   "execution_count": 18,
   "metadata": {},
   "outputs": [
    {
     "data": {
      "text/plain": [
       "0"
      ]
     },
     "execution_count": 18,
     "metadata": {},
     "output_type": "execute_result"
    }
   ],
   "source": [
    "IP.c_xa_w(M, np.deg2rad(alf))"
   ]
  }
 ],
 "metadata": {
  "kernelspec": {
   "display_name": "Python 3.9.13 ('base')",
   "language": "python",
   "name": "python3"
  },
  "language_info": {
   "codemirror_mode": {
    "name": "ipython",
    "version": 3
   },
   "file_extension": ".py",
   "mimetype": "text/x-python",
   "name": "python",
   "nbconvert_exporter": "python",
   "pygments_lexer": "ipython3",
   "version": "3.9.13"
  },
  "orig_nbformat": 4,
  "vscode": {
   "interpreter": {
    "hash": "ad2bdc8ecc057115af97d19610ffacc2b4e99fae6737bb82f5d7fb13d2f2c186"
   }
  }
 },
 "nbformat": 4,
 "nbformat_minor": 2
}

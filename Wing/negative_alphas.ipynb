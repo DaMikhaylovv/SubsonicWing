{
 "cells": [
  {
   "cell_type": "code",
   "execution_count": 180,
   "metadata": {},
   "outputs": [],
   "source": [
    "import os\n",
    "import sys\n",
    "\n",
    "AeroBDSM_OOP_dir = os.path.abspath(os.path.join('../AERO_LIB/'))\n",
    "if AeroBDSM_OOP_dir not in sys.path:\n",
    "    sys.path.append(AeroBDSM_OOP_dir)\n",
    "\n",
    "PyXfoil_dir = os.path.abspath(os.path.join('../Xfoil/'))\n",
    "if PyXfoil_dir not in sys.path:\n",
    "    sys.path.append(PyXfoil_dir)\n",
    "\n",
    "import py_Xfoil as pxf\n",
    "from isolated_plane import *\n",
    "from libs.Atmosphere import atmo\n",
    "from math import *\n",
    "import numpy as np\n",
    "import matplotlib.pyplot as plt\n",
    "from scipy.interpolate import interp1d\n",
    "from scipy.integrate import cumtrapz\n",
    "\n",
    "from pandas import DataFrame, read_excel\n",
    "%config InlineBackend.figure_format = 'svg'\n",
    "\n",
    "# Задание формата шрифта для графиков\n",
    "plt.rcParams[\"font.family\"] = 'serif'\n",
    "plt.rcParams['font.weight'] = 'ultralight'\n",
    "plt.rcParams['font.serif'] = 'Times New Roman'\n",
    "plt.rcParams['font.size'] = 16\n",
    "plt.rcParams['font.style'] = 'normal'\n",
    "plt.rcParams['mathtext.default'] = 'regular'\n",
    "plt.rcParams['mathtext.fontset'] = 'stix'\n",
    "\n",
    "import warnings\n",
    "warnings.filterwarnings(\"ignore\")"
   ]
  },
  {
   "cell_type": "code",
   "execution_count": 181,
   "metadata": {},
   "outputs": [],
   "source": [
    "alpha_Ansys = np.array([-16, -12,  -8,  -4,  -2,   0,   2,   4,   8,  12,  16])\n",
    "cya_Ansys = np.array([-0.61606586, -0.5541269 , -0.40776431, -0.15321114, -0.01155672, 0.13245655,  0.27776655,  0.42350608,  0.70470581,  0.9251901 , 0.90648008])"
   ]
  },
  {
   "cell_type": "code",
   "execution_count": 182,
   "metadata": {},
   "outputs": [
    {
     "name": "stdout",
     "output_type": "stream",
     "text": [
      "flag\n",
      "flag\n",
      "flag\n",
      "flag\n",
      "flag\n",
      "flag\n",
      "flag\n"
     ]
    },
    {
     "data": {
      "image/svg+xml": "<?xml version=\"1.0\" encoding=\"utf-8\" standalone=\"no\"?>\n<!DOCTYPE svg PUBLIC \"-//W3C//DTD SVG 1.1//EN\"\n  \"http://www.w3.org/Graphics/SVG/1.1/DTD/svg11.dtd\">\n<svg xmlns:xlink=\"http://www.w3.org/1999/xlink\" width=\"407.5425pt\" height=\"302.0445pt\" viewBox=\"0 0 407.5425 302.0445\" xmlns=\"http://www.w3.org/2000/svg\" version=\"1.1\">\n <metadata>\n  <rdf:RDF xmlns:dc=\"http://purl.org/dc/elements/1.1/\" xmlns:cc=\"http://creativecommons.org/ns#\" xmlns:rdf=\"http://www.w3.org/1999/02/22-rdf-syntax-ns#\">\n   <cc:Work>\n    <dc:type rdf:resource=\"http://purl.org/dc/dcmitype/StillImage\"/>\n    <dc:date>2023-10-28T23:28:18.175076</dc:date>\n    <dc:format>image/svg+xml</dc:format>\n    <dc:creator>\n     <cc:Agent>\n      <dc:title>Matplotlib v3.5.2, https://matplotlib.org/</dc:title>\n     </cc:Agent>\n    </dc:creator>\n   </cc:Work>\n  </rdf:RDF>\n </metadata>\n <defs>\n  <style type=\"text/css\">*{stroke-linejoin: round; stroke-linecap: butt}</style>\n </defs>\n <g id=\"figure_1\">\n  <g id=\"patch_1\">\n   <path d=\"M 0 302.0445 \nL 407.5425 302.0445 \nL 407.5425 0 \nL 0 0 \nz\n\" style=\"fill: #ffffff\"/>\n  </g>\n  <g id=\"axes_1\">\n   <g id=\"patch_2\">\n    <path d=\"M 43.2225 273.312 \nL 400.3425 273.312 \nL 400.3425 7.2 \nL 43.2225 7.2 \nz\n\" style=\"fill: #ffffff\"/>\n   </g>\n   <g id=\"PathCollection_1\">\n    <defs>\n     <path id=\"m95e45fd0ac\" d=\"M 0 3 \nC 0.795609 3 1.55874 2.683901 2.12132 2.12132 \nC 2.683901 1.55874 3 0.795609 3 0 \nC 3 -0.795609 2.683901 -1.55874 2.12132 -2.12132 \nC 1.55874 -2.683901 0.795609 -3 0 -3 \nC -0.795609 -3 -1.55874 -2.683901 -2.12132 -2.12132 \nC -2.683901 -1.55874 -3 -0.795609 -3 0 \nC -3 0.795609 -2.683901 1.55874 -2.12132 2.12132 \nC -1.55874 2.683901 -0.795609 3 0 3 \nz\n\" style=\"stroke: #ff0000\"/>\n    </defs>\n    <g clip-path=\"url(#p78a927b88b)\">\n     <use xlink:href=\"#m95e45fd0ac\" x=\"171.412278\" y=\"261.216\" style=\"fill: #ff0000; stroke: #ff0000\"/>\n    </g>\n   </g>\n   <g id=\"matplotlib.axis_1\">\n    <g id=\"xtick_1\">\n     <g id=\"line2d_1\">\n      <path d=\"M 100.037045 273.312 \nL 100.037045 7.2 \n\" clip-path=\"url(#p78a927b88b)\" style=\"fill: none; stroke: #b0b0b0; stroke-width: 0.8; stroke-linecap: square\"/>\n     </g>\n     <g id=\"line2d_2\">\n      <defs>\n       <path id=\"m17fc0b1304\" d=\"M 0 0 \nL 0 3.5 \n\" style=\"stroke: #000000; stroke-width: 0.8\"/>\n      </defs>\n      <g>\n       <use xlink:href=\"#m17fc0b1304\" x=\"100.037045\" y=\"273.312\" style=\"stroke: #000000; stroke-width: 0.8\"/>\n      </g>\n     </g>\n     <g id=\"text_1\">\n      <!-- −50 -->\n      <g transform=\"translate(87.525795 291.422)scale(0.16 -0.16)\">\n       <defs>\n        <path id=\"TimesNewRomanPSMT-2212\" d=\"M 3484 2000 \nL 116 2000 \nL 116 2256 \nL 3484 2256 \nL 3484 2000 \nz\n\" transform=\"scale(0.015625)\"/>\n        <path id=\"TimesNewRomanPSMT-35\" d=\"M 2778 4238 \nL 2534 3706 \nL 1259 3706 \nL 981 3138 \nQ 1809 3016 2294 2522 \nQ 2709 2097 2709 1522 \nQ 2709 1188 2573 903 \nQ 2438 619 2231 419 \nQ 2025 219 1772 97 \nQ 1413 -75 1034 -75 \nQ 653 -75 479 54 \nQ 306 184 306 341 \nQ 306 428 378 495 \nQ 450 563 559 563 \nQ 641 563 702 538 \nQ 763 513 909 409 \nQ 1144 247 1384 247 \nQ 1750 247 2026 523 \nQ 2303 800 2303 1197 \nQ 2303 1581 2056 1914 \nQ 1809 2247 1375 2428 \nQ 1034 2569 447 2591 \nL 1259 4238 \nL 2778 4238 \nz\n\" transform=\"scale(0.015625)\"/>\n        <path id=\"TimesNewRomanPSMT-30\" d=\"M 231 2094 \nQ 231 2819 450 3342 \nQ 669 3866 1031 4122 \nQ 1313 4325 1613 4325 \nQ 2100 4325 2488 3828 \nQ 2972 3213 2972 2159 \nQ 2972 1422 2759 906 \nQ 2547 391 2217 158 \nQ 1888 -75 1581 -75 \nQ 975 -75 572 641 \nQ 231 1244 231 2094 \nz\nM 844 2016 \nQ 844 1141 1059 588 \nQ 1238 122 1591 122 \nQ 1759 122 1940 273 \nQ 2122 425 2216 781 \nQ 2359 1319 2359 2297 \nQ 2359 3022 2209 3506 \nQ 2097 3866 1919 4016 \nQ 1791 4119 1609 4119 \nQ 1397 4119 1231 3928 \nQ 1006 3669 925 3112 \nQ 844 2556 844 2016 \nz\n\" transform=\"scale(0.015625)\"/>\n       </defs>\n       <use xlink:href=\"#TimesNewRomanPSMT-2212\"/>\n       <use xlink:href=\"#TimesNewRomanPSMT-35\" x=\"56.396484\"/>\n       <use xlink:href=\"#TimesNewRomanPSMT-30\" x=\"106.396484\"/>\n      </g>\n     </g>\n    </g>\n    <g id=\"xtick_2\">\n     <g id=\"line2d_3\">\n      <path d=\"M 201.491591 273.312 \nL 201.491591 7.2 \n\" clip-path=\"url(#p78a927b88b)\" style=\"fill: none; stroke: #b0b0b0; stroke-width: 0.8; stroke-linecap: square\"/>\n     </g>\n     <g id=\"line2d_4\">\n      <g>\n       <use xlink:href=\"#m17fc0b1304\" x=\"201.491591\" y=\"273.312\" style=\"stroke: #000000; stroke-width: 0.8\"/>\n      </g>\n     </g>\n     <g id=\"text_2\">\n      <!-- 0 -->\n      <g transform=\"translate(197.491591 291.422)scale(0.16 -0.16)\">\n       <use xlink:href=\"#TimesNewRomanPSMT-30\"/>\n      </g>\n     </g>\n    </g>\n    <g id=\"xtick_3\">\n     <g id=\"line2d_5\">\n      <path d=\"M 302.946136 273.312 \nL 302.946136 7.2 \n\" clip-path=\"url(#p78a927b88b)\" style=\"fill: none; stroke: #b0b0b0; stroke-width: 0.8; stroke-linecap: square\"/>\n     </g>\n     <g id=\"line2d_6\">\n      <g>\n       <use xlink:href=\"#m17fc0b1304\" x=\"302.946136\" y=\"273.312\" style=\"stroke: #000000; stroke-width: 0.8\"/>\n      </g>\n     </g>\n     <g id=\"text_3\">\n      <!-- 50 -->\n      <g transform=\"translate(294.946136 291.422)scale(0.16 -0.16)\">\n       <use xlink:href=\"#TimesNewRomanPSMT-35\"/>\n       <use xlink:href=\"#TimesNewRomanPSMT-30\" x=\"50\"/>\n      </g>\n     </g>\n    </g>\n   </g>\n   <g id=\"matplotlib.axis_2\">\n    <g id=\"ytick_1\">\n     <g id=\"line2d_7\">\n      <path d=\"M 43.2225 261.216 \nL 400.3425 261.216 \n\" clip-path=\"url(#p78a927b88b)\" style=\"fill: none; stroke: #b0b0b0; stroke-width: 0.8; stroke-linecap: square\"/>\n     </g>\n     <g id=\"line2d_8\">\n      <defs>\n       <path id=\"m8341c76555\" d=\"M 0 0 \nL -3.5 0 \n\" style=\"stroke: #000000; stroke-width: 0.8\"/>\n      </defs>\n      <g>\n       <use xlink:href=\"#m8341c76555\" x=\"43.2225\" y=\"261.216\" style=\"stroke: #000000; stroke-width: 0.8\"/>\n      </g>\n     </g>\n     <g id=\"text_4\">\n      <!-- −1.0 -->\n      <g transform=\"translate(7.2 266.771)scale(0.16 -0.16)\">\n       <defs>\n        <path id=\"TimesNewRomanPSMT-31\" d=\"M 750 3822 \nL 1781 4325 \nL 1884 4325 \nL 1884 747 \nQ 1884 391 1914 303 \nQ 1944 216 2037 169 \nQ 2131 122 2419 116 \nL 2419 0 \nL 825 0 \nL 825 116 \nQ 1125 122 1212 167 \nQ 1300 213 1334 289 \nQ 1369 366 1369 747 \nL 1369 3034 \nQ 1369 3497 1338 3628 \nQ 1316 3728 1258 3775 \nQ 1200 3822 1119 3822 \nQ 1003 3822 797 3725 \nL 750 3822 \nz\n\" transform=\"scale(0.015625)\"/>\n        <path id=\"TimesNewRomanPSMT-2e\" d=\"M 800 606 \nQ 947 606 1047 504 \nQ 1147 403 1147 259 \nQ 1147 116 1045 14 \nQ 944 -88 800 -88 \nQ 656 -88 554 14 \nQ 453 116 453 259 \nQ 453 406 554 506 \nQ 656 606 800 606 \nz\n\" transform=\"scale(0.015625)\"/>\n       </defs>\n       <use xlink:href=\"#TimesNewRomanPSMT-2212\"/>\n       <use xlink:href=\"#TimesNewRomanPSMT-31\" x=\"56.396484\"/>\n       <use xlink:href=\"#TimesNewRomanPSMT-2e\" x=\"106.396484\"/>\n       <use xlink:href=\"#TimesNewRomanPSMT-30\" x=\"131.396484\"/>\n      </g>\n     </g>\n    </g>\n    <g id=\"ytick_2\">\n     <g id=\"line2d_9\">\n      <path d=\"M 43.2225 200.736 \nL 400.3425 200.736 \n\" clip-path=\"url(#p78a927b88b)\" style=\"fill: none; stroke: #b0b0b0; stroke-width: 0.8; stroke-linecap: square\"/>\n     </g>\n     <g id=\"line2d_10\">\n      <g>\n       <use xlink:href=\"#m8341c76555\" x=\"43.2225\" y=\"200.736\" style=\"stroke: #000000; stroke-width: 0.8\"/>\n      </g>\n     </g>\n     <g id=\"text_5\">\n      <!-- −0.5 -->\n      <g transform=\"translate(7.2 206.291)scale(0.16 -0.16)\">\n       <use xlink:href=\"#TimesNewRomanPSMT-2212\"/>\n       <use xlink:href=\"#TimesNewRomanPSMT-30\" x=\"56.396484\"/>\n       <use xlink:href=\"#TimesNewRomanPSMT-2e\" x=\"106.396484\"/>\n       <use xlink:href=\"#TimesNewRomanPSMT-35\" x=\"131.396484\"/>\n      </g>\n     </g>\n    </g>\n    <g id=\"ytick_3\">\n     <g id=\"line2d_11\">\n      <path d=\"M 43.2225 140.256 \nL 400.3425 140.256 \n\" clip-path=\"url(#p78a927b88b)\" style=\"fill: none; stroke: #b0b0b0; stroke-width: 0.8; stroke-linecap: square\"/>\n     </g>\n     <g id=\"line2d_12\">\n      <g>\n       <use xlink:href=\"#m8341c76555\" x=\"43.2225\" y=\"140.256\" style=\"stroke: #000000; stroke-width: 0.8\"/>\n      </g>\n     </g>\n     <g id=\"text_6\">\n      <!-- 0.0 -->\n      <g transform=\"translate(16.2225 145.811)scale(0.16 -0.16)\">\n       <use xlink:href=\"#TimesNewRomanPSMT-30\"/>\n       <use xlink:href=\"#TimesNewRomanPSMT-2e\" x=\"50\"/>\n       <use xlink:href=\"#TimesNewRomanPSMT-30\" x=\"75\"/>\n      </g>\n     </g>\n    </g>\n    <g id=\"ytick_4\">\n     <g id=\"line2d_13\">\n      <path d=\"M 43.2225 79.776 \nL 400.3425 79.776 \n\" clip-path=\"url(#p78a927b88b)\" style=\"fill: none; stroke: #b0b0b0; stroke-width: 0.8; stroke-linecap: square\"/>\n     </g>\n     <g id=\"line2d_14\">\n      <g>\n       <use xlink:href=\"#m8341c76555\" x=\"43.2225\" y=\"79.776\" style=\"stroke: #000000; stroke-width: 0.8\"/>\n      </g>\n     </g>\n     <g id=\"text_7\">\n      <!-- 0.5 -->\n      <g transform=\"translate(16.2225 85.331)scale(0.16 -0.16)\">\n       <use xlink:href=\"#TimesNewRomanPSMT-30\"/>\n       <use xlink:href=\"#TimesNewRomanPSMT-2e\" x=\"50\"/>\n       <use xlink:href=\"#TimesNewRomanPSMT-35\" x=\"75\"/>\n      </g>\n     </g>\n    </g>\n    <g id=\"ytick_5\">\n     <g id=\"line2d_15\">\n      <path d=\"M 43.2225 19.296 \nL 400.3425 19.296 \n\" clip-path=\"url(#p78a927b88b)\" style=\"fill: none; stroke: #b0b0b0; stroke-width: 0.8; stroke-linecap: square\"/>\n     </g>\n     <g id=\"line2d_16\">\n      <g>\n       <use xlink:href=\"#m8341c76555\" x=\"43.2225\" y=\"19.296\" style=\"stroke: #000000; stroke-width: 0.8\"/>\n      </g>\n     </g>\n     <g id=\"text_8\">\n      <!-- 1.0 -->\n      <g transform=\"translate(16.2225 24.851)scale(0.16 -0.16)\">\n       <use xlink:href=\"#TimesNewRomanPSMT-31\"/>\n       <use xlink:href=\"#TimesNewRomanPSMT-2e\" x=\"50\"/>\n       <use xlink:href=\"#TimesNewRomanPSMT-30\" x=\"75\"/>\n      </g>\n     </g>\n    </g>\n   </g>\n   <g id=\"line2d_17\">\n    <path d=\"M 59.455227 172.539956 \nL 62.701773 175.122672 \nL 65.948318 177.705389 \nL 69.194864 180.288105 \nL 72.441409 182.870822 \nL 75.687955 185.453538 \nL 78.9345 188.036254 \nL 82.181045 190.618971 \nL 85.427591 193.201687 \nL 88.674136 195.784404 \nL 91.920682 198.36712 \nL 95.167227 200.949837 \nL 98.413773 203.532553 \nL 101.660318 206.11527 \nL 104.906864 208.697986 \nL 108.153409 211.280703 \nL 111.399955 213.863419 \nL 114.6465 216.446136 \nL 117.893045 219.028852 \nL 121.139591 221.611568 \nL 124.386136 224.194285 \nL 127.632682 226.777001 \nL 130.879227 229.359718 \nL 134.125773 231.942434 \nL 137.372318 234.525151 \nL 140.618864 237.107867 \nL 143.865409 239.690584 \nL 147.111955 242.2733 \nL 150.3585 244.856017 \nL 153.605045 247.438733 \nL 156.851591 250.02145 \nL 160.098136 252.604166 \nL 163.344682 255.186882 \nL 166.591227 257.769599 \nL 169.837773 260.352315 \nL 173.084318 260.078555 \nL 176.330864 251.373224 \nL 179.577409 237.129157 \nL 182.823955 222.777578 \nL 186.0705 208.426 \nL 189.317045 194.074421 \nL 192.563591 179.722842 \nL 195.810136 165.371263 \nL 199.056682 151.019684 \nL 202.303227 136.668105 \nL 205.549773 122.316526 \nL 208.796318 107.964948 \nL 212.042864 93.613369 \nL 215.289409 79.26179 \nL 218.535955 64.910211 \nL 221.7825 50.558632 \nL 225.029045 36.207053 \nL 228.275591 23.714048 \nL 231.522136 19.296968 \nL 234.768682 21.451043 \nL 238.015227 24.033759 \nL 241.261773 26.616476 \nL 244.508318 29.199192 \nL 247.754864 31.781909 \nL 251.001409 34.364625 \nL 254.247955 36.947342 \nL 257.4945 39.530058 \nL 260.741045 42.112775 \nL 263.987591 44.695491 \nL 267.234136 47.278207 \nL 270.480682 49.860924 \nL 273.727227 52.44364 \nL 276.973773 55.026357 \nL 280.220318 57.609073 \nL 283.466864 60.19179 \nL 286.713409 62.774506 \nL 289.959955 65.357223 \nL 293.2065 67.939939 \nL 296.453045 70.522656 \nL 299.699591 73.105372 \nL 302.946136 75.688089 \nL 306.192682 78.270805 \nL 309.439227 80.853521 \nL 312.685773 83.436238 \nL 315.932318 86.018954 \nL 319.178864 88.601671 \nL 322.425409 91.184387 \nL 325.671955 93.767104 \nL 328.9185 96.34982 \nL 332.165045 98.932537 \nL 335.411591 101.515253 \nL 338.658136 104.09797 \nL 341.904682 106.680686 \nL 345.151227 109.263402 \nL 348.397773 111.846119 \nL 351.644318 114.428835 \nL 354.890864 117.011552 \nL 358.137409 119.594268 \nL 361.383955 122.176985 \nL 364.6305 124.759701 \nL 367.877045 127.342418 \nL 371.123591 129.925134 \nL 374.370136 132.507851 \nL 377.616682 135.090567 \nL 380.863227 137.673284 \nL 384.109773 140.256 \n\" clip-path=\"url(#p78a927b88b)\" style=\"fill: none; stroke: #1f77b4; stroke-width: 1.5; stroke-linecap: square\"/>\n   </g>\n   <g id=\"line2d_18\">\n    <path d=\"M 169.026136 214.775326 \nL 177.1425 207.28319 \nL 185.258864 189.579171 \nL 193.375227 158.788419 \nL 197.433409 141.653901 \nL 201.491591 124.234056 \nL 205.549773 106.657358 \nL 209.607955 89.028705 \nL 217.724318 55.014785 \nL 225.840682 28.345006 \nL 233.957045 30.60817 \n\" clip-path=\"url(#p78a927b88b)\" style=\"fill: none; stroke: #ff7f0e; stroke-width: 1.5; stroke-linecap: square\"/>\n   </g>\n   <g id=\"LineCollection_1\">\n    <path d=\"M 100.037045 140.256 \nL 302.946136 140.256 \n\" clip-path=\"url(#p78a927b88b)\" style=\"fill: none; stroke-dasharray: 5.55,2.4; stroke-dashoffset: 0; stroke: #ff0000; stroke-width: 1.5\"/>\n   </g>\n   <g id=\"LineCollection_2\">\n    <path d=\"M 100.037045 140.256 \nL 302.946136 140.256 \n\" clip-path=\"url(#p78a927b88b)\" style=\"fill: none; stroke-dasharray: 5.55,2.4; stroke-dashoffset: 0; stroke: #ff0000; stroke-width: 1.5\"/>\n   </g>\n   <g id=\"LineCollection_3\">\n    <path d=\"M 201.491591 261.216 \nL 201.491591 19.296 \n\" clip-path=\"url(#p78a927b88b)\" style=\"fill: none; stroke-dasharray: 5.55,2.4; stroke-dashoffset: 0; stroke: #ff0000; stroke-width: 1.5\"/>\n   </g>\n   <g id=\"patch_3\">\n    <path d=\"M 43.2225 273.312 \nL 43.2225 7.2 \n\" style=\"fill: none; stroke: #000000; stroke-width: 0.8; stroke-linejoin: miter; stroke-linecap: square\"/>\n   </g>\n   <g id=\"patch_4\">\n    <path d=\"M 400.3425 273.312 \nL 400.3425 7.2 \n\" style=\"fill: none; stroke: #000000; stroke-width: 0.8; stroke-linejoin: miter; stroke-linecap: square\"/>\n   </g>\n   <g id=\"patch_5\">\n    <path d=\"M 43.2225 273.312 \nL 400.3425 273.312 \n\" style=\"fill: none; stroke: #000000; stroke-width: 0.8; stroke-linejoin: miter; stroke-linecap: square\"/>\n   </g>\n   <g id=\"patch_6\">\n    <path d=\"M 43.2225 7.2 \nL 400.3425 7.2 \n\" style=\"fill: none; stroke: #000000; stroke-width: 0.8; stroke-linejoin: miter; stroke-linecap: square\"/>\n   </g>\n  </g>\n </g>\n <defs>\n  <clipPath id=\"p78a927b88b\">\n   <rect x=\"43.2225\" y=\"7.2\" width=\"357.12\" height=\"266.112\"/>\n  </clipPath>\n </defs>\n</svg>\n",
      "text/plain": [
       "<Figure size 640x480 with 1 Axes>"
      ]
     },
     "metadata": {},
     "output_type": "display_data"
    }
   ],
   "source": [
    "c_y_a_alpha = 0.07415457\n",
    "delta_c_ya = 0.149294999\n",
    "alpha_kr = 12.824034\n",
    "\n",
    "def cya_non_linear(alpha, c_y_a_alpha, c_y_a_max, alpha_kr):\n",
    "    '''\n",
    "    Функция для нелинейного участка кривой c_y_a (alpha)\n",
    "    \n",
    "    Ввод: alpha: float - угол атаки, град\n",
    "          c_y_a_alpha: float - производная линейного участка кривой c_y_a (alpha) на малых углах атаки, 1/град\n",
    "          c_y_a_max: float - максимальное значение коэффициента c_y_a\n",
    "          alpha_kr: float - значение критического угла атаки, град\n",
    "\n",
    "    Вывод: c_y_a: float - значение коэффициента подъемной силы на нелинейном участке\n",
    "    '''\n",
    "    \n",
    "    # Первый участок - парабола касается линейного участка кривой c_y_a (alpha)\n",
    "    # Условие для построения параболы: 1. касание линейного участка слева\n",
    "    #                                  2. равенство значений прямой и параболы в точке касания\n",
    "    #                                  3. вершина параболы по y лежит в точке c_y_a_max\n",
    "    #                                  4. вершина параболы по x лежит в точке alpha_kr\n",
    "\n",
    "    # дискриминант\n",
    "    D = (2*delta_c_ya - 2*c_y_a_max)**2 - 4*c_y_a_alpha*(2*c_y_a_max*alpha_kr - c_y_a_alpha*alpha_kr**2 - 2*delta_c_ya*alpha_kr)\n",
    "    \n",
    "    # координата по alpha точки касания параболы и прямой\n",
    "    x0 = (-(2*delta_c_ya - 2 * c_y_a_max) - np.sqrt(D)) / 2 / c_y_a_alpha\n",
    "\n",
    "    # коэффициент a в уравнении для параболы\n",
    "    a = c_y_a_alpha / (2 * (x0 - alpha_kr))\n",
    "    # коэффициент b в уравнении для параболы\n",
    "    b = -2*a*alpha_kr\n",
    "    # коэффициент c в уравнении для параболы\n",
    "    c = c_y_a_max + a*alpha_kr**2\n",
    "\n",
    "    # уравнение искомой параболы\n",
    "    def parab_new(x):\n",
    "        return (a*x**2 + b*x + c)\n",
    "    \n",
    "    # Прямая второго участка - касательна к параболе и приходит в 0 на угле 90 градусов\n",
    "    \n",
    "    # координаты конечной точки прямой\n",
    "    x2 = 90\n",
    "    y2 = 0\n",
    "    \n",
    "    # дискриминант\n",
    "    D1 = 4*(x2**2)*(a**2) - 4 * a * (y2 - b*x2-c)\n",
    "\n",
    "    # координата точки касания прямой к параболе\n",
    "    x1 = (2*x2*a + np.sqrt(D1)) / 2 / a\n",
    "    # коэффициент k в уравнении прямой\n",
    "    k = 2*a*x1 + b\n",
    "    # коэффициент d в уравнении прямой\n",
    "    d = - k*x2 + y2\n",
    "\n",
    "    # уравнение искомой прямой\n",
    "    def line(xx):\n",
    "        return k*xx + d\n",
    "\n",
    "    # результат\n",
    "    if alpha<0:\n",
    "        if np.abs(alpha) < np.abs(x0):\n",
    "            return 2 * delta_c_ya - (np.abs(alpha) * c_y_a_alpha + delta_c_ya)\n",
    "        if np.abs(x0) <= np.abs(alpha) <= np.abs(x1):\n",
    "            return 2 * delta_c_ya - parab_new(np.abs(alpha))\n",
    "        if np.abs(alpha) > np.abs(x1):\n",
    "            return 2 * delta_c_ya - line(np.abs(alpha))\n",
    "    else:\n",
    "        if np.abs(alpha) < np.abs(x0):\n",
    "            return alpha * c_y_a_alpha + delta_c_ya\n",
    "        if np.abs(x0) <= np.abs(alpha) <= np.abs(x1):\n",
    "            return parab_new(alpha)\n",
    "        if np.abs(alpha) > np.abs(x1):\n",
    "            return line(alpha)\n",
    "\n",
    "alphas = np.linspace(-70, 90, 101)\n",
    "cya_s = []\n",
    "\n",
    "# cya_non_linear(-5, 1, c_y_a_alpha, alpha_kr)\n",
    "\n",
    "for aa in alphas:\n",
    "    cya_s.append(cya_non_linear(aa, c_y_a_alpha, 1, alpha_kr + 2))\n",
    "\n",
    "plt.plot(alphas, cya_s)\n",
    "plt.plot(alpha_Ansys, cya_Ansys)\n",
    "# print(alphas)\n",
    "plt.scatter(- alpha_kr - 2, - 1, color = 'red')\n",
    "plt.hlines(0, -50, 50, color = 'red', ls ='--')\n",
    "plt.hlines(delta_c_ya, -50, 50, color = 'red', ls ='--')\n",
    "plt.vlines(0, -1, 1, color = 'red', ls ='--')\n",
    "plt.grid()"
   ]
  }
 ],
 "metadata": {
  "kernelspec": {
   "display_name": "Python 3.9.13 ('base')",
   "language": "python",
   "name": "python3"
  },
  "language_info": {
   "codemirror_mode": {
    "name": "ipython",
    "version": 3
   },
   "file_extension": ".py",
   "mimetype": "text/x-python",
   "name": "python",
   "nbconvert_exporter": "python",
   "pygments_lexer": "ipython3",
   "version": "3.9.13"
  },
  "orig_nbformat": 4,
  "vscode": {
   "interpreter": {
    "hash": "ad2bdc8ecc057115af97d19610ffacc2b4e99fae6737bb82f5d7fb13d2f2c186"
   }
  }
 },
 "nbformat": 4,
 "nbformat_minor": 2
}

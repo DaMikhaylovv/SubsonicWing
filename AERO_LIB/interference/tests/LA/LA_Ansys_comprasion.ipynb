{
 "cells": [
  {
   "cell_type": "markdown",
   "metadata": {},
   "source": [
    "# Данный файл предназначен для сравнения АДХ летательного аппарата рассчитанных в класс LA с полученными в Ansys\n",
    "# НЕ РАБОТАЕТ, НЕ СДЕЛАНО!"
   ]
  },
  {
   "cell_type": "code",
   "execution_count": 1,
   "metadata": {},
   "outputs": [
    {
     "ename": "ModuleNotFoundError",
     "evalue": "No module named 'fuselage'",
     "output_type": "error",
     "traceback": [
      "\u001b[1;31m---------------------------------------------------------------------------\u001b[0m",
      "\u001b[1;31mModuleNotFoundError\u001b[0m                       Traceback (most recent call last)",
      "Cell \u001b[1;32mIn[1], line 7\u001b[0m\n\u001b[0;32m      4\u001b[0m \u001b[39mif\u001b[39;00m AeroBDSM_OOP_dir \u001b[39mnot\u001b[39;00m \u001b[39min\u001b[39;00m sys\u001b[39m.\u001b[39mpath:\n\u001b[0;32m      5\u001b[0m     sys\u001b[39m.\u001b[39mpath\u001b[39m.\u001b[39mappend(AeroBDSM_OOP_dir)\n\u001b[1;32m----> 7\u001b[0m \u001b[39mfrom\u001b[39;00m \u001b[39mfuselage\u001b[39;00m \u001b[39mimport\u001b[39;00m \u001b[39m*\u001b[39m\n\u001b[0;32m      8\u001b[0m \u001b[39mfrom\u001b[39;00m \u001b[39misolated_plane\u001b[39;00m \u001b[39mimport\u001b[39;00m \u001b[39m*\u001b[39m\n\u001b[0;32m      9\u001b[0m \u001b[39mfrom\u001b[39;00m \u001b[39m__LA\u001b[39;00m \u001b[39mimport\u001b[39;00m \u001b[39m*\u001b[39m\n",
      "\u001b[1;31mModuleNotFoundError\u001b[0m: No module named 'fuselage'"
     ]
    }
   ],
   "source": [
    "import os\n",
    "import sys\n",
    "AeroBDSM_OOP_dir = os.path.abspath(os.path.join('../../..'))\n",
    "if AeroBDSM_OOP_dir not in sys.path:\n",
    "    sys.path.append(AeroBDSM_OOP_dir)\n",
    "\n",
    "from fuselage import *\n",
    "from isolated_plane import *\n",
    "from __LA import *\n",
    "import numpy as np\n",
    "from scipy.interpolate import interp2d\n",
    "import matplotlib.pyplot as plt\n",
    "from ipywidgets import interact\n",
    "\n",
    "%config InlineBackend.figure_format = 'svg'\n",
    "\n",
    "#параметры текста\n",
    "plt.rcParams[\"font.family\"] = 'serif'\n",
    "plt.rcParams['font.weight'] = 'ultralight'\n",
    "plt.rcParams['font.serif'] = 'Times New Roman'\n",
    "plt.rcParams['font.size'] = 14\n",
    "plt.rcParams['font.style'] = 'normal'\n",
    "plt.rcParams['mathtext.default'] = 'regular'\n",
    "plt.rcParams['mathtext.fontset'] = 'stix'"
   ]
  },
  {
   "cell_type": "code",
   "execution_count": null,
   "metadata": {},
   "outputs": [],
   "source": [
    "alphas = np.deg2rad([0,2,5,10,15,20])\n",
    "Ms = [0.6, 0.8, 1.1, 1.5, 2]\n",
    "\n",
    "Y_ansysm = [[-2.4778, 470.48, 1410.58, 3464.6, 5964.4, 8702],\n",
    "            [-3.134, 834.936, 2544.2, 6348.8, 10938.4, 15928.9],\n",
    "            [4.5416, 1604.924, 5140.473, 12682.769, 21716.683, 31986.954],\n",
    "            [-4.217, 3203.403, 9600.985, 23681.586, 40631.119, 62924.287],\n",
    "            [-17.476, 5525.547, 16452.775, 40970.1, 71439.856, 112187.357]]\n",
    "\n",
    "X_ansysm = [[589.88, 596.9, 618.8, 629.44, 573.58, 493.52],\n",
    "            [1080.24, 1087.85, 1125.10, 1143.32, 1048.49, 930.08],\n",
    "            [4683, 4688.208, 4750.958, 4949.38, 4917.055, 4667.264],\n",
    "            [9120.703, 9144.984, 9260.561, 9524.356, 9738.117, 9745.524],\n",
    "            [14690.643, 14784.394, 15055.862, 15489.212, 16068.561, 16129.074]]\n",
    "\n",
    "Mz_ansysm = [[-11.668, 932.86, 2993.4, 7688, 13468.2, 19783.4],\n",
    "             [-15.99, 1627.62, 5392.27, 14112, 24837.6, 36238.9],\n",
    "             [1.3016, 3352.16, 10857.473, 28134.45, 48411.16, 69238.992],\n",
    "             [-68.225, 5876.737, 19639.399, 51461.907, 87267.676, 127955.5],\n",
    "             [-92.364, 9848.47, 32496.898, 85716.655, 142648.235, 225990.819]]\n",
    "\n",
    "S_har = 0.493\n",
    "b_har = 0.897\n",
    "x_mass = 4.2 * 0.529"
   ]
  },
  {
   "cell_type": "code",
   "execution_count": null,
   "metadata": {},
   "outputs": [],
   "source": [
    "alpham, Mm = np.meshgrid(alphas, Ms)\n",
    "_Y_ansys = interp2d(alpham, Mm, Y_ansysm)\n",
    "_X_ansys = interp2d(alpham, Mm, X_ansysm,)\n",
    "_Mz_ansys1 = interp2d(alpham, Mm, Mz_ansysm)\n",
    "\n",
    "Y_ansys = lambda M, alpha: _Y_ansys(alpha, M)\n",
    "X_ansys = lambda M, alpha: _X_ansys(alpha, M)\n",
    "Mz_ansys1 = lambda M, alpha: _Mz_ansys1(alpha, M)\n",
    "Mz_ansys = lambda M, alpha: Y_ansys(M, alpha) * x_mass - Mz_ansys1(M ,alpha)\n",
    "\n",
    "cx_ansys = lambda M, alpha: X_ansys(M, alpha) / (q(M, 0) * S_har)\n",
    "cy_ansys = lambda M, alpha: Y_ansys(M, alpha) / (q(M, 0) * S_har)\n",
    "mz_ansys = lambda M, alpha: Mz_ansys(M, alpha) / (q(M, 0) * S_har * b_har)\n",
    "xd_ansys = lambda M, alpha: Mz_ansys1(M, alpha) / Y_ansys(M, alpha)\n",
    "\n",
    "cya_ansys = lambda M, alpha: cy_ansys(M, alpha) * np.cos(alpha) - cx_ansys(M, alpha) * np.sin(alpha)\n",
    "cxa_ansys = lambda M, alpha: cy_ansys(M, alpha) * np.sin(alpha) + cx_ansys(M, alpha) * np.cos(alpha)"
   ]
  },
  {
   "cell_type": "code",
   "execution_count": null,
   "metadata": {},
   "outputs": [],
   "source": [
    "'''Фюзеляж'''\n",
    "D = 0.31\n",
    "L_main = 4.2\n",
    "L_nos = 0.37\n",
    "L_cor = 0.115\n",
    "D_dn = 0.27\n",
    "r_sph = 0.5 * D / 2\n",
    "\n",
    "lambda_nos = L_nos / D\n",
    "lambda_cor = L_cor / D\n",
    "lambda_cil = (L_main - L_cor - L_nos) / D\n",
    "eta_cor = D_dn / D\n",
    "\n",
    "nc = NosCil_SphOgi(lambda_nos=lambda_nos,\n",
    "                   lambda_cil=lambda_cil,\n",
    "                   D=D,\n",
    "                   r_sph=r_sph)\n",
    "cor = Cor_Con(D=D,\n",
    "              eta_cor=eta_cor,\n",
    "              lambda_cor=lambda_cor,\n",
    "              D_a=(0.9 * D_dn))\n",
    "fuselag = Fuselage(nosCil=nc, cor=cor)"
   ]
  },
  {
   "cell_type": "code",
   "execution_count": null,
   "metadata": {},
   "outputs": [],
   "source": [
    "'''Передняя НП'''\n",
    "x_bb_I = 1.94\n",
    "l_c_I = 0.248                               # длина консоли [м]\n",
    "b_b_I = 0.897                               # бортовая хорда [м]\n",
    "b_1_I = 0.773                               # концевая хорда [м]\n",
    "chi_0_I = radians(45)                       # угол стреловидности по передней кромке крыла [рад]\n",
    "\n",
    "# параметры профиля\n",
    "cc_1_I = 0.03                               # относительная толщина профиля в концевом сечении\n",
    "cc_b_I = 0.11                               # относительная толщина профиля в бортовом сечении\n",
    "cc_I = (cc_b_I + cc_1_I) / 2                # средняя относительная толщина профиля [-]\n",
    "xx_c_I = 0.5                               # относительная координата наибольшей толщины профиля в долях рассматриваемой хорды\n",
    "rr_0_I = 0                                  # относительный радиус скругления передней кромки [-]\n",
    "hb_I = 1e-5                                 # относительная высота бугорков профиля [-]\n",
    "aa_I = 0.5                                  # отношение геометрического параметра профиля `a` в долях рассматриваемой хорды\n",
    "\n",
    "S_c_I = (b_b_I + b_1_I) / 2 * l_c_I\n",
    "lambda_c_I = l_c_I ** 2 / S_c_I\n",
    "zeta_c_I = b_1_I / b_b_I\n",
    "chi_05_I = atan(tan(chi_0_I) - 2 / lambda_c_I * (1 / zeta_c_I - 1) / (1 / zeta_c_I + 1))\n",
    "\n",
    "prof1 = HexProfile(b_b_I, cc_I, xx_c_I, aa_I, rr_0_I, hb_I)\n",
    "IC_I = IsolatedPlane(S_c_I, lambda_c_I, zeta_c_I, chi_05_I, prof1)"
   ]
  },
  {
   "cell_type": "code",
   "execution_count": null,
   "metadata": {},
   "outputs": [],
   "source": [
    "# Геометрические задней НП\n",
    "\n",
    "x_bb_II = 3.85\n",
    "# Параметры крыла\n",
    "l_kr_II = 0.248            # размах крыла [м]\n",
    "l_c_II = 0.124             # длина одной консоли [м]\n",
    "b_b_II = 0.340             # бортовая хорда [м]\n",
    "b_1_II = 0.200             # концевая хорда [м]\n",
    "chi_0_II = radians(48.47)  # угол стреловидности по передней кромке [рад]\n",
    "chi_1_II = radians(0)      # угол стреловидности по задней кромке [рад]\n",
    "x_b_II = 2.200             # координата носка бортовой хорды (от носка самолета) [м]\n",
    "xx_r_II = 0.6              # относительная координата оси вращения руля\n",
    "\n",
    "# Параметры профиля крыла\n",
    "cc_b_II = 0.011            # относительная толщина профиля бортовой хорды [-]\n",
    "cc_1_II = 0.030            # относительная толщина профиля концевой хорды [-]\n",
    "cc_II = (cc_b_II + cc_1_II) / 2  # средняя относительная толщина профиля [-]\n",
    "xx_c_II = 0.5              # относительная координата положения максимальной толщины [-]\n",
    "hb_II = 1e-5               # относительная высота бугорков профиля [-]\n",
    "rr_0_II = 0                # относительный радиус скругления передней кромки [-]\n",
    "aa_II = 0.5                # отношение геометрического параметра профиля `a` в долях рассматриваемой хорды [-]\n",
    "\n",
    "# Расчет геометрических параметров\n",
    "S_kr_II = (b_b_II + b_1_II) / 2 * l_kr_II\n",
    "lambda_kr_II = l_kr_II ** 2 / S_kr_II\n",
    "zeta_kr_II = b_1_II / b_b_II\n",
    "chi_05_II = atan(tan(chi_0_II) - 2 / lambda_kr_II * (1 / zeta_kr_II - 1) / (1 / zeta_kr_II + 1))\n",
    "\n",
    "prof2 = HexProfile(b_b_II, cc_II, xx_c_II, aa_II, rr_0_II, hb_II)\n",
    "IC_II = IsolatedPlane_RotatingConsoles(S_kr_II, lambda_kr_II, zeta_kr_II, chi_05_II, S_kr_II, lambda_kr_II, xx_r_II, prof2)"
   ]
  },
  {
   "cell_type": "code",
   "execution_count": null,
   "metadata": {},
   "outputs": [],
   "source": [
    "console_row_1 = [\n",
    "    [x_bb_I, np.radians([45, 135, 225, 315]), IC_I]\n",
    "]\n",
    "\n",
    "console_row_2 = [\n",
    "    [x_bb_II, np.radians([45, 135, 225, 315]), IC_II]\n",
    "]\n",
    "\n",
    "la = LA(fuselag, console_row_1, console_row_2, S_har, b_har)"
   ]
  },
  {
   "cell_type": "code",
   "execution_count": null,
   "metadata": {},
   "outputs": [
    {
     "data": {
      "application/vnd.jupyter.widget-view+json": {
       "model_id": "2e54157e74724f578f8d4d4d847aee3d",
       "version_major": 2,
       "version_minor": 0
      },
      "text/plain": [
       "interactive(children=(Dropdown(description='alpha', options=(0.0, 2.0, 5.0, 10.0, 14.999999999999998, 20.0), v…"
      ]
     },
     "metadata": {},
     "output_type": "display_data"
    },
    {
     "data": {
      "text/plain": [
       "<function __main__.coeff_M(alpha)>"
      ]
     },
     "execution_count": 26,
     "metadata": {},
     "output_type": "execute_result"
    }
   ],
   "source": [
    "deltas_I = [0, 0, 0, 0]\n",
    "deltas_II = [0, 0, 0, 0]\n",
    "\n",
    "def coeff_M(alpha):\n",
    "    alpha_r = np.deg2rad(alpha)\n",
    "    \n",
    "    fig, axs = plt.subplots(2, 3, figsize = (16, 9))\n",
    "    axs = np.reshape(axs,(1,6))[0]\n",
    "    \n",
    "    c_ys = [la.c_y(Mi, alpha_r, deltas_I, deltas_II, 0) for Mi in Ms]\n",
    "    c_xas = [la.c_xa(Mi, alpha_r, 0, deltas_I, deltas_II, False, 0) for Mi in Ms]\n",
    "    c_yas = [la.c_ya(Mi, alpha_r, deltas_I, deltas_II, False, 0) for Mi in Ms]\n",
    "    m_zs = [la.m_z(Mi, alpha_r, deltas_I, deltas_II, x_mass, 0) for Mi in Ms]\n",
    "    x_ds = [la.x_d(Mi, alpha_r, deltas_I, deltas_II, 0) for Mi in Ms]\n",
    "\n",
    "    labels = ['$c_y$','$c_{xa}$', '$c_{ya}$','$m_z$','$x_d$']\n",
    "\n",
    "    for ax, c, c_ansys, label in zip(axs, [c_ys, c_xas, c_yas, m_zs, x_ds], [cy_ansys, cxa_ansys, cya_ansys, mz_ansys, xd_ansys], labels):\n",
    "        ax.plot(Ms, c, label = 'ООП', c = 'r')\n",
    "        if alpha > 0 or c_ansys != xd_ansys:\n",
    "            ax.plot(Ms, [c_ansys(Mi, alpha_r) for Mi in Ms], label = 'ANSYS', c = 'b')\n",
    "\n",
    "        ax.set_xlabel('M')\n",
    "        ax.set_ylabel(label)\n",
    "        ax.grid()\n",
    "        ax.legend()\n",
    "    plt.show()\n",
    "\n",
    "interact(coeff_M, alpha = np.rad2deg(alphas))"
   ]
  },
  {
   "cell_type": "code",
   "execution_count": null,
   "metadata": {},
   "outputs": [
    {
     "data": {
      "application/vnd.jupyter.widget-view+json": {
       "model_id": "321bd748e33447468a6d91cc79689d3e",
       "version_major": 2,
       "version_minor": 0
      },
      "text/plain": [
       "interactive(children=(Dropdown(description='M', options=(0.6, 0.8, 1.1, 1.5, 2), value=0.6), Output()), _dom_c…"
      ]
     },
     "metadata": {},
     "output_type": "display_data"
    },
    {
     "data": {
      "text/plain": [
       "<function __main__.coeff_alpha(M)>"
      ]
     },
     "execution_count": 27,
     "metadata": {},
     "output_type": "execute_result"
    }
   ],
   "source": [
    "def coeff_alpha(M):\n",
    "    alphas_deg = np.rad2deg(alphas)\n",
    "    \n",
    "    fig, axs = plt.subplots(2, 3, figsize = (16, 9))\n",
    "    axs = np.reshape(axs,(1,6))[0]\n",
    "    \n",
    "    c_ys = [la.c_y(M, alpha, deltas_I, deltas_II, 0) for alpha in alphas]\n",
    "    c_xas = [la.c_xa(M, alpha, 0, deltas_I, deltas_II, False, 0) for alpha in alphas]\n",
    "    c_yas = [la.c_ya(M, alpha, deltas_I, deltas_II, False, 0) for alpha in alphas]\n",
    "    m_zs = [la.m_z(M, alpha, deltas_I, deltas_II, x_mass, 0) for alpha in alphas]\n",
    "    x_ds = [la.x_d(M, alpha, deltas_I, deltas_II, 0) for alpha in alphas]\n",
    "\n",
    "    labels = ['$c_y$','$c_{xa}$', '$c_{ya}$','$m_z$','$x_d$']\n",
    "\n",
    "    for ax, c, c_ansys, label in zip(axs, [c_ys, c_xas, c_yas, m_zs, x_ds], [cy_ansys, cxa_ansys, cya_ansys, mz_ansys, xd_ansys], labels):\n",
    "        ax.plot(alphas_deg, c, label = 'ООП', c = 'r')\n",
    "        if c_ansys == xd_ansys:\n",
    "            ax.plot(alphas_deg[1:], [c_ansys(M, alpha) for alpha in alphas[1:]], label = 'ANSYS', c = 'b')\n",
    "        else:\n",
    "            ax.plot(alphas_deg, [c_ansys(M, alpha) for alpha in alphas], label = 'ANSYS', c = 'b')\n",
    "\n",
    "        ax.set_xlabel('$\\\\alpha$')\n",
    "        ax.set_ylabel(label)\n",
    "        ax.grid()\n",
    "        ax.legend()\n",
    "    plt.show()\n",
    "\n",
    "interact(coeff_alpha, M = Ms)"
   ]
  }
 ],
 "metadata": {
  "kernelspec": {
   "display_name": "Python 3.9.13 ('base')",
   "language": "python",
   "name": "python3"
  },
  "language_info": {
   "codemirror_mode": {
    "name": "ipython",
    "version": 3
   },
   "file_extension": ".py",
   "mimetype": "text/x-python",
   "name": "python",
   "nbconvert_exporter": "python",
   "pygments_lexer": "ipython3",
   "version": "3.10.11"
  },
  "orig_nbformat": 4,
  "vscode": {
   "interpreter": {
    "hash": "ad2bdc8ecc057115af97d19610ffacc2b4e99fae6737bb82f5d7fb13d2f2c186"
   }
  }
 },
 "nbformat": 4,
 "nbformat_minor": 2
}
